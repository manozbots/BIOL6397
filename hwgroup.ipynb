{
 "cells": [
  {
   "cell_type": "code",
   "execution_count": 5,
   "metadata": {},
   "outputs": [],
   "source": [
    "import numpy as np\n",
    "def hwgroup(n,m):\n",
    "    '''parameters:\n",
    "    n - number of students to be grouped\n",
    "    m - number of groups to be formed\n",
    "    '''\n",
    "    B=np.random.permutation(n)+1\n",
    "    k=int(np.floor(n/m))\n",
    "    r=n-m*k\n",
    "    x=range(r,m)\n",
    "    if r>0:\n",
    "        for j in range(r):\n",
    "            print(np.concatenate([B[(j*k):(k*(j+1))], B[m*k+j]],axis=None))\n",
    "        for w in x:\n",
    "            print(B[(w*k):(k*(w+1))])\n",
    "    else: \n",
    "        for i in range(m):\n",
    "            print(B[(i*k):(k*(i+1))])\n"
   ]
  },
  {
   "cell_type": "code",
   "execution_count": 6,
   "metadata": {},
   "outputs": [
    {
     "name": "stdout",
     "output_type": "stream",
     "text": [
      "[ 1  5  4 16  2]\n",
      "[11 13 12  6  8]\n",
      "[ 3  7 19 18 14]\n",
      "[17 15  9 10]\n"
     ]
    }
   ],
   "source": [
    "hwgroup(19,4)"
   ]
  },
  {
   "cell_type": "code",
   "execution_count": null,
   "metadata": {},
   "outputs": [],
   "source": []
  }
 ],
 "metadata": {
  "kernelspec": {
   "display_name": "Python 3",
   "language": "python",
   "name": "python3"
  },
  "language_info": {
   "codemirror_mode": {
    "name": "ipython",
    "version": 3
   },
   "file_extension": ".py",
   "mimetype": "text/x-python",
   "name": "python",
   "nbconvert_exporter": "python",
   "pygments_lexer": "ipython3",
   "version": "3.7.4"
  }
 },
 "nbformat": 4,
 "nbformat_minor": 2
}
